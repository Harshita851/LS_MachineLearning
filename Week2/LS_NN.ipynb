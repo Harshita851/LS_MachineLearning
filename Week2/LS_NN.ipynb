{
  "nbformat": 4,
  "nbformat_minor": 0,
  "metadata": {
    "colab": {
      "provenance": []
    },
    "kernelspec": {
      "name": "python3",
      "display_name": "Python 3"
    },
    "language_info": {
      "name": "python"
    }
  },
  "cells": [
    {
      "cell_type": "code",
      "execution_count": 1,
      "metadata": {
        "id": "CcHzwsMg9KBA",
        "colab": {
          "base_uri": "https://localhost:8080/",
          "height": 73
        },
        "outputId": "60087de8-041d-4a56-ab4c-c65a0f2a6762"
      },
      "outputs": [
        {
          "output_type": "display_data",
          "data": {
            "text/plain": [
              "<IPython.core.display.HTML object>"
            ],
            "text/html": [
              "\n",
              "     <input type=\"file\" id=\"files-dd7041e8-c604-4817-83f6-abd73f9634f3\" name=\"files[]\" multiple disabled\n",
              "        style=\"border:none\" />\n",
              "     <output id=\"result-dd7041e8-c604-4817-83f6-abd73f9634f3\">\n",
              "      Upload widget is only available when the cell has been executed in the\n",
              "      current browser session. Please rerun this cell to enable.\n",
              "      </output>\n",
              "      <script>// Copyright 2017 Google LLC\n",
              "//\n",
              "// Licensed under the Apache License, Version 2.0 (the \"License\");\n",
              "// you may not use this file except in compliance with the License.\n",
              "// You may obtain a copy of the License at\n",
              "//\n",
              "//      http://www.apache.org/licenses/LICENSE-2.0\n",
              "//\n",
              "// Unless required by applicable law or agreed to in writing, software\n",
              "// distributed under the License is distributed on an \"AS IS\" BASIS,\n",
              "// WITHOUT WARRANTIES OR CONDITIONS OF ANY KIND, either express or implied.\n",
              "// See the License for the specific language governing permissions and\n",
              "// limitations under the License.\n",
              "\n",
              "/**\n",
              " * @fileoverview Helpers for google.colab Python module.\n",
              " */\n",
              "(function(scope) {\n",
              "function span(text, styleAttributes = {}) {\n",
              "  const element = document.createElement('span');\n",
              "  element.textContent = text;\n",
              "  for (const key of Object.keys(styleAttributes)) {\n",
              "    element.style[key] = styleAttributes[key];\n",
              "  }\n",
              "  return element;\n",
              "}\n",
              "\n",
              "// Max number of bytes which will be uploaded at a time.\n",
              "const MAX_PAYLOAD_SIZE = 100 * 1024;\n",
              "\n",
              "function _uploadFiles(inputId, outputId) {\n",
              "  const steps = uploadFilesStep(inputId, outputId);\n",
              "  const outputElement = document.getElementById(outputId);\n",
              "  // Cache steps on the outputElement to make it available for the next call\n",
              "  // to uploadFilesContinue from Python.\n",
              "  outputElement.steps = steps;\n",
              "\n",
              "  return _uploadFilesContinue(outputId);\n",
              "}\n",
              "\n",
              "// This is roughly an async generator (not supported in the browser yet),\n",
              "// where there are multiple asynchronous steps and the Python side is going\n",
              "// to poll for completion of each step.\n",
              "// This uses a Promise to block the python side on completion of each step,\n",
              "// then passes the result of the previous step as the input to the next step.\n",
              "function _uploadFilesContinue(outputId) {\n",
              "  const outputElement = document.getElementById(outputId);\n",
              "  const steps = outputElement.steps;\n",
              "\n",
              "  const next = steps.next(outputElement.lastPromiseValue);\n",
              "  return Promise.resolve(next.value.promise).then((value) => {\n",
              "    // Cache the last promise value to make it available to the next\n",
              "    // step of the generator.\n",
              "    outputElement.lastPromiseValue = value;\n",
              "    return next.value.response;\n",
              "  });\n",
              "}\n",
              "\n",
              "/**\n",
              " * Generator function which is called between each async step of the upload\n",
              " * process.\n",
              " * @param {string} inputId Element ID of the input file picker element.\n",
              " * @param {string} outputId Element ID of the output display.\n",
              " * @return {!Iterable<!Object>} Iterable of next steps.\n",
              " */\n",
              "function* uploadFilesStep(inputId, outputId) {\n",
              "  const inputElement = document.getElementById(inputId);\n",
              "  inputElement.disabled = false;\n",
              "\n",
              "  const outputElement = document.getElementById(outputId);\n",
              "  outputElement.innerHTML = '';\n",
              "\n",
              "  const pickedPromise = new Promise((resolve) => {\n",
              "    inputElement.addEventListener('change', (e) => {\n",
              "      resolve(e.target.files);\n",
              "    });\n",
              "  });\n",
              "\n",
              "  const cancel = document.createElement('button');\n",
              "  inputElement.parentElement.appendChild(cancel);\n",
              "  cancel.textContent = 'Cancel upload';\n",
              "  const cancelPromise = new Promise((resolve) => {\n",
              "    cancel.onclick = () => {\n",
              "      resolve(null);\n",
              "    };\n",
              "  });\n",
              "\n",
              "  // Wait for the user to pick the files.\n",
              "  const files = yield {\n",
              "    promise: Promise.race([pickedPromise, cancelPromise]),\n",
              "    response: {\n",
              "      action: 'starting',\n",
              "    }\n",
              "  };\n",
              "\n",
              "  cancel.remove();\n",
              "\n",
              "  // Disable the input element since further picks are not allowed.\n",
              "  inputElement.disabled = true;\n",
              "\n",
              "  if (!files) {\n",
              "    return {\n",
              "      response: {\n",
              "        action: 'complete',\n",
              "      }\n",
              "    };\n",
              "  }\n",
              "\n",
              "  for (const file of files) {\n",
              "    const li = document.createElement('li');\n",
              "    li.append(span(file.name, {fontWeight: 'bold'}));\n",
              "    li.append(span(\n",
              "        `(${file.type || 'n/a'}) - ${file.size} bytes, ` +\n",
              "        `last modified: ${\n",
              "            file.lastModifiedDate ? file.lastModifiedDate.toLocaleDateString() :\n",
              "                                    'n/a'} - `));\n",
              "    const percent = span('0% done');\n",
              "    li.appendChild(percent);\n",
              "\n",
              "    outputElement.appendChild(li);\n",
              "\n",
              "    const fileDataPromise = new Promise((resolve) => {\n",
              "      const reader = new FileReader();\n",
              "      reader.onload = (e) => {\n",
              "        resolve(e.target.result);\n",
              "      };\n",
              "      reader.readAsArrayBuffer(file);\n",
              "    });\n",
              "    // Wait for the data to be ready.\n",
              "    let fileData = yield {\n",
              "      promise: fileDataPromise,\n",
              "      response: {\n",
              "        action: 'continue',\n",
              "      }\n",
              "    };\n",
              "\n",
              "    // Use a chunked sending to avoid message size limits. See b/62115660.\n",
              "    let position = 0;\n",
              "    do {\n",
              "      const length = Math.min(fileData.byteLength - position, MAX_PAYLOAD_SIZE);\n",
              "      const chunk = new Uint8Array(fileData, position, length);\n",
              "      position += length;\n",
              "\n",
              "      const base64 = btoa(String.fromCharCode.apply(null, chunk));\n",
              "      yield {\n",
              "        response: {\n",
              "          action: 'append',\n",
              "          file: file.name,\n",
              "          data: base64,\n",
              "        },\n",
              "      };\n",
              "\n",
              "      let percentDone = fileData.byteLength === 0 ?\n",
              "          100 :\n",
              "          Math.round((position / fileData.byteLength) * 100);\n",
              "      percent.textContent = `${percentDone}% done`;\n",
              "\n",
              "    } while (position < fileData.byteLength);\n",
              "  }\n",
              "\n",
              "  // All done.\n",
              "  yield {\n",
              "    response: {\n",
              "      action: 'complete',\n",
              "    }\n",
              "  };\n",
              "}\n",
              "\n",
              "scope.google = scope.google || {};\n",
              "scope.google.colab = scope.google.colab || {};\n",
              "scope.google.colab._files = {\n",
              "  _uploadFiles,\n",
              "  _uploadFilesContinue,\n",
              "};\n",
              "})(self);\n",
              "</script> "
            ]
          },
          "metadata": {}
        },
        {
          "output_type": "stream",
          "name": "stdout",
          "text": [
            "Saving homer_bart.zip to homer_bart.zip\n"
          ]
        }
      ],
      "source": [
        "from google.colab import files\n",
        "uploaded = files.upload()\n"
      ]
    },
    {
      "cell_type": "code",
      "source": [
        "import zipfile\n",
        "import os\n",
        "\n",
        "zip_file_name = 'homer_bart.zip'\n",
        "\n",
        "\n",
        "unzip_dir = 'unzipped_files'\n",
        "os.makedirs(unzip_dir, exist_ok=True)\n",
        "\n",
        "with zipfile.ZipFile(zip_file_name, 'r') as zip_ref:\n",
        "    zip_ref.extractall(unzip_dir)\n",
        "\n",
        "\n",
        "print(os.listdir(unzip_dir))\n",
        "\n"
      ],
      "metadata": {
        "colab": {
          "base_uri": "https://localhost:8080/"
        },
        "id": "7n22xyxH-4Mm",
        "outputId": "311cd577-e63b-44ab-8d77-c8736a6d4c29"
      },
      "execution_count": 6,
      "outputs": [
        {
          "output_type": "stream",
          "name": "stdout",
          "text": [
            "['Bart', 'Homer']\n"
          ]
        }
      ]
    },
    {
      "cell_type": "code",
      "source": [
        "import tensorflow as tf\n",
        "from tensorflow import keras\n",
        "from keras import Sequential\n",
        "from keras.layers import Dense, Flatten, BatchNormalization, Dropout\n",
        "from tensorflow.keras.optimizers import Adam\n",
        "from tensorflow.keras.utils import to_categorical"
      ],
      "metadata": {
        "id": "ShglH8Zs_8yn"
      },
      "execution_count": 34,
      "outputs": []
    },
    {
      "cell_type": "code",
      "source": [
        "import shutil\n",
        "import numpy as np\n",
        "from sklearn.model_selection import train_test_split\n",
        "from PIL import Image\n",
        "\n",
        "data_dir = '/content/Data'\n",
        "train_dir = 'path_to_your_dataset/train'\n",
        "test_dir = 'path_to_your_dataset/test'\n",
        "\n",
        "def resize_split_and_move_files(class_name, target_size=(64, 64)):\n",
        "    class_dir = os.path.join(data_dir, class_name)\n",
        "    images = os.listdir(class_dir)\n",
        "\n",
        "    # Resize images\n",
        "    for img_name in images:\n",
        "        img_path = os.path.join(class_dir, img_name)\n",
        "        img = Image.open(img_path)\n",
        "        img = img.resize(target_size, Image.ANTIALIAS)  # Resize image to target_size\n",
        "        img.save(img_path)  # Overwrite original image with resized image\n",
        "\n",
        "    # Split the data\n",
        "    train_images, test_images = train_test_split(images, test_size=0.1, random_state=42)\n",
        "\n",
        "    # Function to move files to the new directory\n",
        "    def move_files(image_list, destination_dir):\n",
        "        dest_class_dir = os.path.join(destination_dir, class_name)\n",
        "        os.makedirs(dest_class_dir, exist_ok=True)\n",
        "        for image in image_list:\n",
        "            src_path = os.path.join(class_dir, image)\n",
        "            dst_path = os.path.join(dest_class_dir, image)\n",
        "            shutil.copy(src_path, dst_path)\n",
        "\n",
        "    # Move the files\n",
        "    move_files(train_images, train_dir)\n",
        "    move_files(test_images, test_dir)\n",
        "\n",
        "# Get the class names from the dataset directory\n",
        "classes = [d for d in os.listdir(data_dir) if os.path.isdir(os.path.join(data_dir, d))]\n",
        "\n",
        "# Resize, split, and move files for each class\n",
        "for class_name in classes:\n",
        "    resize_split_and_move_files(class_name)\n",
        "\n"
      ],
      "metadata": {
        "colab": {
          "base_uri": "https://localhost:8080/"
        },
        "id": "PB0VA3O4Bz3a",
        "outputId": "f1caa089-c40c-432b-879f-eba987d5bcfa"
      },
      "execution_count": 12,
      "outputs": [
        {
          "output_type": "stream",
          "name": "stderr",
          "text": [
            "<ipython-input-12-218307c43c86>:18: DeprecationWarning: ANTIALIAS is deprecated and will be removed in Pillow 10 (2023-07-01). Use LANCZOS or Resampling.LANCZOS instead.\n",
            "  img = img.resize(target_size, Image.ANTIALIAS)  # Resize image to target_size\n"
          ]
        }
      ]
    },
    {
      "cell_type": "code",
      "source": [
        "from tensorflow.keras.preprocessing.image import ImageDataGenerator\n",
        "\n",
        "\n",
        "train_data_dir = '/content/final_dataset/train'\n",
        "test_data_dir = '/content/final_dataset/test'\n",
        "\n",
        "img_height, img_width = 64, 64\n",
        "batch_size = 32\n",
        "\n",
        "\n",
        "train_datagen = ImageDataGenerator(rescale=1.0/255.0)\n",
        "test_datagen = ImageDataGenerator(rescale=1.0/255.0)\n",
        "\n",
        "# Training data generator\n",
        "train_generator = train_datagen.flow_from_directory(\n",
        "    train_data_dir,\n",
        "    target_size=(img_height, img_width),\n",
        "    batch_size=batch_size,\n",
        "    class_mode='categorical'\n",
        ")\n",
        "\n",
        "# Testing data generator\n",
        "test_generator = test_datagen.flow_from_directory(\n",
        "    test_data_dir,\n",
        "    target_size=(img_height, img_width),\n",
        "    batch_size=batch_size,\n",
        "    class_mode='categorical'\n",
        ")\n",
        "\n",
        "\n"
      ],
      "metadata": {
        "colab": {
          "base_uri": "https://localhost:8080/"
        },
        "id": "gYXBHXOUNWZL",
        "outputId": "53f59ebf-eea4-4252-ebf4-509e164526f6"
      },
      "execution_count": 35,
      "outputs": [
        {
          "output_type": "stream",
          "name": "stdout",
          "text": [
            "Found 242 images belonging to 2 classes.\n",
            "Found 27 images belonging to 2 classes.\n"
          ]
        }
      ]
    },
    {
      "cell_type": "code",
      "source": [
        "model = Sequential()\n",
        "model.add(Flatten(input_shape=(img_height, img_width, 3)))\n",
        "model.add(Dense(512, activation='relu'))\n",
        "model.add(Dropout(0.5))\n",
        "model.add(Dense(256, activation='relu'))\n",
        "model.add(Dropout(0.5))\n",
        "model.add(Dense(128, activation='relu'))\n",
        "model.add(Dense(num_classes, activation='sigmoid'))\n",
        "\n",
        "# Compile the model\n",
        "model.compile(optimizer= Adam(lr= 0.01), loss='binary_crossentropy', metrics=['accuracy'])\n",
        "\n",
        "# Train the model\n",
        "model.fit(train_generator, epochs=20)\n"
      ],
      "metadata": {
        "colab": {
          "base_uri": "https://localhost:8080/"
        },
        "id": "uhm8366eTdl7",
        "outputId": "b19ad9b6-ac2d-4fdf-dd68-0676a1325c10"
      },
      "execution_count": 38,
      "outputs": [
        {
          "output_type": "stream",
          "name": "stderr",
          "text": [
            "WARNING:absl:`lr` is deprecated in Keras optimizer, please use `learning_rate` or use the legacy optimizer, e.g.,tf.keras.optimizers.legacy.Adam.\n"
          ]
        },
        {
          "output_type": "stream",
          "name": "stdout",
          "text": [
            "Epoch 1/20\n",
            "8/8 [==============================] - 2s 91ms/step - loss: 4.2706 - accuracy: 0.5207\n",
            "Epoch 2/20\n",
            "8/8 [==============================] - 1s 86ms/step - loss: 3.7170 - accuracy: 0.4711\n",
            "Epoch 3/20\n",
            "8/8 [==============================] - 1s 90ms/step - loss: 2.4609 - accuracy: 0.5455\n",
            "Epoch 4/20\n",
            "8/8 [==============================] - 1s 91ms/step - loss: 1.6022 - accuracy: 0.5744\n",
            "Epoch 5/20\n",
            "8/8 [==============================] - 1s 86ms/step - loss: 1.0772 - accuracy: 0.5785\n",
            "Epoch 6/20\n",
            "8/8 [==============================] - 1s 87ms/step - loss: 0.7692 - accuracy: 0.5537\n",
            "Epoch 7/20\n",
            "8/8 [==============================] - 1s 90ms/step - loss: 0.6867 - accuracy: 0.5909\n",
            "Epoch 8/20\n",
            "8/8 [==============================] - 1s 89ms/step - loss: 0.6766 - accuracy: 0.5620\n",
            "Epoch 9/20\n",
            "8/8 [==============================] - 1s 86ms/step - loss: 0.6419 - accuracy: 0.6157\n",
            "Epoch 10/20\n",
            "8/8 [==============================] - 1s 92ms/step - loss: 0.6255 - accuracy: 0.6033\n",
            "Epoch 11/20\n",
            "8/8 [==============================] - 1s 129ms/step - loss: 0.6231 - accuracy: 0.5950\n",
            "Epoch 12/20\n",
            "8/8 [==============================] - 1s 129ms/step - loss: 0.6346 - accuracy: 0.5992\n",
            "Epoch 13/20\n",
            "8/8 [==============================] - 1s 134ms/step - loss: 0.6301 - accuracy: 0.6033\n",
            "Epoch 14/20\n",
            "8/8 [==============================] - 1s 97ms/step - loss: 0.6051 - accuracy: 0.6446\n",
            "Epoch 15/20\n",
            "8/8 [==============================] - 1s 88ms/step - loss: 0.5979 - accuracy: 0.7025\n",
            "Epoch 16/20\n",
            "8/8 [==============================] - 1s 88ms/step - loss: 0.5892 - accuracy: 0.6777\n",
            "Epoch 17/20\n",
            "8/8 [==============================] - 1s 90ms/step - loss: 0.5819 - accuracy: 0.6818\n",
            "Epoch 18/20\n",
            "8/8 [==============================] - 1s 90ms/step - loss: 0.6080 - accuracy: 0.6364\n",
            "Epoch 19/20\n",
            "8/8 [==============================] - 1s 90ms/step - loss: 0.5722 - accuracy: 0.6983\n",
            "Epoch 20/20\n",
            "8/8 [==============================] - 1s 88ms/step - loss: 0.5347 - accuracy: 0.7314\n"
          ]
        },
        {
          "output_type": "execute_result",
          "data": {
            "text/plain": [
              "<keras.src.callbacks.History at 0x7831bdd12f50>"
            ]
          },
          "metadata": {},
          "execution_count": 38
        }
      ]
    },
    {
      "cell_type": "code",
      "source": [
        "test_loss, test_acc = model.evaluate(test_generator)\n",
        "print('Test accuracy:', test_acc)\n"
      ],
      "metadata": {
        "colab": {
          "base_uri": "https://localhost:8080/"
        },
        "id": "3CwgAs3bRiiF",
        "outputId": "2a906bcc-6577-459d-dda3-ee37e7ab0570"
      },
      "execution_count": 39,
      "outputs": [
        {
          "output_type": "stream",
          "name": "stdout",
          "text": [
            "1/1 [==============================] - 0s 204ms/step - loss: 0.5215 - accuracy: 0.8519\n",
            "Test accuracy: 0.8518518805503845\n"
          ]
        }
      ]
    },
    {
      "cell_type": "code",
      "source": [],
      "metadata": {
        "id": "0Yvk6x4lR6Bc"
      },
      "execution_count": null,
      "outputs": []
    }
  ]
}