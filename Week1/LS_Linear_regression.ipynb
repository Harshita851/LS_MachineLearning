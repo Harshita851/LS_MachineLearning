{
  "nbformat": 4,
  "nbformat_minor": 0,
  "metadata": {
    "colab": {
      "provenance": []
    },
    "kernelspec": {
      "name": "python3",
      "display_name": "Python 3"
    },
    "language_info": {
      "name": "python"
    }
  },
  "cells": [
    {
      "cell_type": "code",
      "execution_count": 107,
      "metadata": {
        "id": "-zTLHrFCT6KY"
      },
      "outputs": [],
      "source": [
        "import numpy as np\n",
        "import pandas as pd\n",
        "import matplotlib.pyplot as plt\n",
        "\n",
        "# Aim is to predict the marks of students of the test data"
      ]
    },
    {
      "cell_type": "code",
      "source": [
        "# Use the file namd 'training data' to train the model\n",
        "\n",
        "data = pd.read_excel('Training data.xlsx')\n",
        "x_train = np.array(data.iloc[:,0:8])\n",
        "y_train = np.array(data.iloc[:,8]).reshape(-1,1)\n",
        "\n",
        "# Try plotting y_train with different features\n",
        "# To get an idea whether to add some features or not\n",
        "# Add some features if required in x_train\n",
        "\n",
        "# Also do label encoding for features not represented in numbers\n",
        "# refer the link if not know : https://youtu.be/589nCGeWG1w?si=t2Wa7LgbUOO4RooM\n",
        "\n",
        "def feature_changing(x_train):\n",
        "  # ---------\n",
        "    # Your code here\n",
        "    def label_encode_column(column):\n",
        "        _ , encoded = np.unique(column, return_inverse=True)\n",
        "        return encoded\n",
        "\n",
        "    col1_index = 0\n",
        "    col2_index = 1\n",
        "\n",
        "    x_train[:, col1_index] = label_encode_column(x_train[:, col1_index])\n",
        "    x_train[:, col2_index] = label_encode_column(x_train[:, col2_index])\n",
        "  # ---------\n",
        "    return x_train\n",
        "\n",
        "x_train = feature_changing(x_train)\n",
        "print(x_train)"
      ],
      "metadata": {
        "id": "p0KHq8ZgTpU4",
        "outputId": "2fd55b07-1125-4457-ae77-32756cd7dc7c",
        "colab": {
          "base_uri": "https://localhost:8080/"
        }
      },
      "execution_count": 108,
      "outputs": [
        {
          "output_type": "stream",
          "name": "stdout",
          "text": [
            "[[0 1 2 ... 6 18 118]\n",
            " [1 1 2 ... 7 19 107]\n",
            " [1 1 3 ... 5 18 108]\n",
            " ...\n",
            " [1 1 2 ... 5 17 123]\n",
            " [1 0 1 ... 8 17 104]\n",
            " [1 1 1 ... 6 18 128]]\n"
          ]
        }
      ]
    },
    {
      "cell_type": "code",
      "source": [
        "def z_score(x_train):\n",
        "\n",
        "\n",
        "  x_train= x_train.astype(np.float64)\n",
        "  x_means = np.mean(x_train, axis=0)\n",
        "  x_stds = np.std(x_train, axis=0)\n",
        "\n",
        "  x_train = (x_train - x_means) / x_stds\n",
        "\n",
        "\n",
        "  return x_train, x_means, x_stds\n",
        "\n"
      ],
      "metadata": {
        "id": "tYshvtYlVour"
      },
      "execution_count": 109,
      "outputs": []
    },
    {
      "cell_type": "code",
      "source": [
        "z_score(x_train)"
      ],
      "metadata": {
        "colab": {
          "base_uri": "https://localhost:8080/"
        },
        "id": "5HK7kIb8xjnI",
        "outputId": "f4d79d2d-06a9-444d-a37e-ad2eb0207394"
      },
      "execution_count": 110,
      "outputs": [
        {
          "output_type": "execute_result",
          "data": {
            "text/plain": [
              "(array([[-1.46446375e+00,  8.56213906e-01,  2.86766521e-01, ...,\n",
              "          3.75906959e-01,  3.31807385e-02,  7.71401505e-01],\n",
              "        [ 6.82843803e-01,  8.56213906e-01,  2.86766521e-01, ...,\n",
              "          7.51438386e-01,  1.61321590e+00, -1.74154162e-01],\n",
              "        [ 6.82843803e-01,  8.56213906e-01,  1.39826467e+00, ...,\n",
              "          3.75531427e-04,  3.31807385e-02, -8.81945558e-02],\n",
              "        ...,\n",
              "        [ 6.82843803e-01,  8.56213906e-01,  2.86766521e-01, ...,\n",
              "          3.75531427e-04, -1.54685443e+00,  1.20119954e+00],\n",
              "        [ 6.82843803e-01, -1.16793244e+00, -8.24731623e-01, ...,\n",
              "          1.12696981e+00, -1.54685443e+00, -4.32032980e-01],\n",
              "        [ 6.82843803e-01,  8.56213906e-01, -8.24731623e-01, ...,\n",
              "          3.75906959e-01,  3.31807385e-02,  1.63099757e+00]]),\n",
              " array([  0.682,   0.577,   1.742,   2.102,   3.191,   4.999,  17.979,\n",
              "        109.026]),\n",
              " array([ 0.46569947,  0.49403542,  0.89968661,  0.92281959,  1.26827402,\n",
              "         2.66289298,  0.63289731, 11.63337114]))"
            ]
          },
          "metadata": {},
          "execution_count": 110
        }
      ]
    },
    {
      "cell_type": "code",
      "source": [
        "\n",
        "def cost(x_train,y_train,w,b):\n",
        "\n",
        "  # ---------\n",
        "    # Your code here\n",
        "    y_hat= np.dot(x_train, w) + b\n",
        "    m= y_train.shape[0]\n",
        "    loss= np.mean((y_train- y_hat)**2)\n",
        "\n",
        "\n",
        "    return loss"
      ],
      "metadata": {
        "id": "O5dOwbNbWJWa"
      },
      "execution_count": 111,
      "outputs": []
    },
    {
      "cell_type": "code",
      "source": [
        "def gradient_descent(x_train,y_train,w,b):\n",
        "  lr= 0.01\n",
        "  #epochs= 1000\n",
        "  m= y_train.shape[0]\n",
        "  #for i in range(epochs):\n",
        "\n",
        "  y_hat = np.dot(x_train, w) + b\n",
        "\n",
        "  error = y_hat - y_train\n",
        "\n",
        "\n",
        "  dj_dw = (1/m) * np.dot(x_train.T, error)\n",
        "  dj_db = (1/m) * np.sum(error)\n",
        "\n",
        "\n",
        "  w = w - lr * dj_dw\n",
        "  b = b - lr * dj_db\n",
        "\n",
        "  return w, b"
      ],
      "metadata": {
        "id": "hW8p2cTNU74W"
      },
      "execution_count": 112,
      "outputs": []
    },
    {
      "cell_type": "code",
      "source": [
        "\n",
        "x_train = x_train.astype(np.float64)\n",
        "x_train,x_mean, x_std = z_score(x_train)\n",
        "\n",
        "np.random.seed(2147483647)\n",
        "w = np.random.randn(x_train.shape[1],1)\n",
        "b = np.random.randn(1)\n",
        "\n",
        "old_cost = 0\n",
        "\n",
        "while abs(old_cost - cost(x_train,y_train,w,b))>0.00001:\n",
        "  old_cost = cost(x_train,y_train,w,b)\n",
        "  w,b = gradient_descent(x_train,y_train,w,b)\n",
        "\n",
        "x_predict = pd.read_excel('Test data.xlsx').iloc[:,:8].to_numpy()\n",
        "x_predict = feature_changing(x_predict)\n",
        "x_predict = (x_predict - x_mean)/x_std\n",
        "ans = pd.read_excel('Test data.xlsx').iloc[:,8].to_numpy()\n",
        "\n",
        "y_predict = np.dot(x_predict,w) + b\n",
        "\n",
        "accuracy = 0\n",
        "for dim in range(len(ans)):\n",
        "  if abs(y_predict[dim]-ans[dim])<0.5: # do not change the tolerance as you'll be checked on +- 0.5 error only\n",
        "    accuracy += 1\n",
        "accuracy = round(accuracy*100/200.0,2)\n",
        "ok = 'Congratulations' if accuracy>95 else 'Optimization required'\n",
        "print(f\"{ok}, your accuracy is {accuracy}%\")"
      ],
      "metadata": {
        "id": "Kl-fioJ5WkYn",
        "colab": {
          "base_uri": "https://localhost:8080/"
        },
        "outputId": "2cb51219-202e-481e-c6ca-112d189582a5"
      },
      "execution_count": 113,
      "outputs": [
        {
          "output_type": "stream",
          "name": "stdout",
          "text": [
            "Congratulations, your accuracy is 100.0%\n"
          ]
        }
      ]
    },
    {
      "cell_type": "code",
      "source": [],
      "metadata": {
        "id": "_k_X87qXdwpF"
      },
      "execution_count": null,
      "outputs": []
    }
  ]
}